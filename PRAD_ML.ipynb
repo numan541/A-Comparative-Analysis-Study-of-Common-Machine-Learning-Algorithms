{
 "cells": [
  {
   "cell_type": "code",
   "execution_count": 1,
   "id": "9cd7476b",
   "metadata": {},
   "outputs": [],
   "source": [
    "import os\n",
    "import pandas as pd\n",
    "import numpy as np"
   ]
  },
  {
   "cell_type": "code",
   "execution_count": 2,
   "id": "818e2e6c",
   "metadata": {},
   "outputs": [],
   "source": [
    "os.chdir(\"/Users/Muhammad_Numan/Desktop/\")"
   ]
  },
  {
   "cell_type": "code",
   "execution_count": 84,
   "id": "9724d1c7",
   "metadata": {},
   "outputs": [],
   "source": [
    "#Reading Dataframe exported previously\n",
    "combined_PRAD = pd.read_csv(\"PRAD_labeled.csv\", index_col=0)"
   ]
  },
  {
   "cell_type": "code",
   "execution_count": 86,
   "id": "131edd15",
   "metadata": {},
   "outputs": [
    {
     "data": {
      "text/html": [
       "<div>\n",
       "<style scoped>\n",
       "    .dataframe tbody tr th:only-of-type {\n",
       "        vertical-align: middle;\n",
       "    }\n",
       "\n",
       "    .dataframe tbody tr th {\n",
       "        vertical-align: top;\n",
       "    }\n",
       "\n",
       "    .dataframe thead th {\n",
       "        text-align: right;\n",
       "    }\n",
       "</style>\n",
       "<table border=\"1\" class=\"dataframe\">\n",
       "  <thead>\n",
       "    <tr style=\"text-align: right;\">\n",
       "      <th></th>\n",
       "      <th>A1BG</th>\n",
       "      <th>A1BG-AS1</th>\n",
       "      <th>A1CF</th>\n",
       "      <th>AACSP1</th>\n",
       "      <th>ABCA4</th>\n",
       "      <th>ABCC11</th>\n",
       "      <th>ABCC12</th>\n",
       "      <th>ABCC3</th>\n",
       "      <th>ABCC4</th>\n",
       "      <th>ABCC6P2</th>\n",
       "      <th>...</th>\n",
       "      <th>ZNF560</th>\n",
       "      <th>ZNF660</th>\n",
       "      <th>ZNF695</th>\n",
       "      <th>ZNF750</th>\n",
       "      <th>ZNF804A</th>\n",
       "      <th>ZNF90</th>\n",
       "      <th>ZP1</th>\n",
       "      <th>ZP2</th>\n",
       "      <th>ZSCAN4</th>\n",
       "      <th>labels</th>\n",
       "    </tr>\n",
       "  </thead>\n",
       "  <tbody>\n",
       "    <tr>\n",
       "      <th>PRAD.T.72</th>\n",
       "      <td>7.209453</td>\n",
       "      <td>4.857981</td>\n",
       "      <td>3.000000</td>\n",
       "      <td>2.584963</td>\n",
       "      <td>3.906891</td>\n",
       "      <td>4.321928</td>\n",
       "      <td>0.000000</td>\n",
       "      <td>8.396605</td>\n",
       "      <td>14.400613</td>\n",
       "      <td>3.584963</td>\n",
       "      <td>...</td>\n",
       "      <td>2.584963</td>\n",
       "      <td>5.247928</td>\n",
       "      <td>2.000000</td>\n",
       "      <td>9.136991</td>\n",
       "      <td>5.285402</td>\n",
       "      <td>4.906891</td>\n",
       "      <td>6.643856</td>\n",
       "      <td>2.321928</td>\n",
       "      <td>1.000000</td>\n",
       "      <td>1</td>\n",
       "    </tr>\n",
       "    <tr>\n",
       "      <th>PRAD.T.216</th>\n",
       "      <td>4.700440</td>\n",
       "      <td>3.169925</td>\n",
       "      <td>1.000000</td>\n",
       "      <td>0.000000</td>\n",
       "      <td>2.584963</td>\n",
       "      <td>6.754888</td>\n",
       "      <td>1.584963</td>\n",
       "      <td>5.044394</td>\n",
       "      <td>13.980318</td>\n",
       "      <td>2.321928</td>\n",
       "      <td>...</td>\n",
       "      <td>0.000000</td>\n",
       "      <td>4.321928</td>\n",
       "      <td>3.584963</td>\n",
       "      <td>7.451211</td>\n",
       "      <td>2.807355</td>\n",
       "      <td>5.247928</td>\n",
       "      <td>5.857981</td>\n",
       "      <td>0.000000</td>\n",
       "      <td>0.000000</td>\n",
       "      <td>1</td>\n",
       "    </tr>\n",
       "    <tr>\n",
       "      <th>PRAD.T.76</th>\n",
       "      <td>5.727920</td>\n",
       "      <td>4.247928</td>\n",
       "      <td>2.321928</td>\n",
       "      <td>4.754888</td>\n",
       "      <td>4.754888</td>\n",
       "      <td>5.906891</td>\n",
       "      <td>0.000000</td>\n",
       "      <td>9.544964</td>\n",
       "      <td>14.613329</td>\n",
       "      <td>2.000000</td>\n",
       "      <td>...</td>\n",
       "      <td>3.000000</td>\n",
       "      <td>5.930737</td>\n",
       "      <td>3.807355</td>\n",
       "      <td>8.618386</td>\n",
       "      <td>5.044394</td>\n",
       "      <td>6.894818</td>\n",
       "      <td>3.906891</td>\n",
       "      <td>2.321928</td>\n",
       "      <td>2.000000</td>\n",
       "      <td>1</td>\n",
       "    </tr>\n",
       "    <tr>\n",
       "      <th>PRAD.T.38</th>\n",
       "      <td>5.087463</td>\n",
       "      <td>2.000000</td>\n",
       "      <td>2.584963</td>\n",
       "      <td>0.000000</td>\n",
       "      <td>4.700440</td>\n",
       "      <td>5.807355</td>\n",
       "      <td>1.000000</td>\n",
       "      <td>7.707359</td>\n",
       "      <td>14.963619</td>\n",
       "      <td>1.584963</td>\n",
       "      <td>...</td>\n",
       "      <td>2.000000</td>\n",
       "      <td>4.643856</td>\n",
       "      <td>3.459432</td>\n",
       "      <td>8.405141</td>\n",
       "      <td>5.247928</td>\n",
       "      <td>4.000000</td>\n",
       "      <td>6.392317</td>\n",
       "      <td>0.000000</td>\n",
       "      <td>0.000000</td>\n",
       "      <td>1</td>\n",
       "    </tr>\n",
       "    <tr>\n",
       "      <th>PRAD.T.386</th>\n",
       "      <td>6.209453</td>\n",
       "      <td>3.584963</td>\n",
       "      <td>2.000000</td>\n",
       "      <td>1.000000</td>\n",
       "      <td>3.700440</td>\n",
       "      <td>8.661778</td>\n",
       "      <td>3.000000</td>\n",
       "      <td>5.285402</td>\n",
       "      <td>14.690216</td>\n",
       "      <td>1.000000</td>\n",
       "      <td>...</td>\n",
       "      <td>2.000000</td>\n",
       "      <td>4.906891</td>\n",
       "      <td>4.169925</td>\n",
       "      <td>4.807355</td>\n",
       "      <td>3.459432</td>\n",
       "      <td>3.584963</td>\n",
       "      <td>8.179909</td>\n",
       "      <td>1.000000</td>\n",
       "      <td>0.000000</td>\n",
       "      <td>1</td>\n",
       "    </tr>\n",
       "    <tr>\n",
       "      <th>...</th>\n",
       "      <td>...</td>\n",
       "      <td>...</td>\n",
       "      <td>...</td>\n",
       "      <td>...</td>\n",
       "      <td>...</td>\n",
       "      <td>...</td>\n",
       "      <td>...</td>\n",
       "      <td>...</td>\n",
       "      <td>...</td>\n",
       "      <td>...</td>\n",
       "      <td>...</td>\n",
       "      <td>...</td>\n",
       "      <td>...</td>\n",
       "      <td>...</td>\n",
       "      <td>...</td>\n",
       "      <td>...</td>\n",
       "      <td>...</td>\n",
       "      <td>...</td>\n",
       "      <td>...</td>\n",
       "      <td>...</td>\n",
       "      <td>...</td>\n",
       "    </tr>\n",
       "    <tr>\n",
       "      <th>PRAD.N.32</th>\n",
       "      <td>9.887221</td>\n",
       "      <td>6.129283</td>\n",
       "      <td>2.584963</td>\n",
       "      <td>0.000000</td>\n",
       "      <td>8.149747</td>\n",
       "      <td>3.169925</td>\n",
       "      <td>1.000000</td>\n",
       "      <td>12.965604</td>\n",
       "      <td>9.668885</td>\n",
       "      <td>1.000000</td>\n",
       "      <td>...</td>\n",
       "      <td>1.000000</td>\n",
       "      <td>5.614710</td>\n",
       "      <td>1.000000</td>\n",
       "      <td>10.743151</td>\n",
       "      <td>4.906891</td>\n",
       "      <td>8.539159</td>\n",
       "      <td>2.807355</td>\n",
       "      <td>0.000000</td>\n",
       "      <td>5.459432</td>\n",
       "      <td>0</td>\n",
       "    </tr>\n",
       "    <tr>\n",
       "      <th>PRAD.N.24</th>\n",
       "      <td>9.063395</td>\n",
       "      <td>6.357552</td>\n",
       "      <td>2.321928</td>\n",
       "      <td>2.321928</td>\n",
       "      <td>4.247928</td>\n",
       "      <td>4.000000</td>\n",
       "      <td>0.000000</td>\n",
       "      <td>10.446049</td>\n",
       "      <td>14.076315</td>\n",
       "      <td>5.209453</td>\n",
       "      <td>...</td>\n",
       "      <td>2.584963</td>\n",
       "      <td>6.339850</td>\n",
       "      <td>3.459432</td>\n",
       "      <td>8.778077</td>\n",
       "      <td>6.781360</td>\n",
       "      <td>5.906891</td>\n",
       "      <td>6.108524</td>\n",
       "      <td>3.459432</td>\n",
       "      <td>3.906891</td>\n",
       "      <td>0</td>\n",
       "    </tr>\n",
       "    <tr>\n",
       "      <th>PRAD.N.41</th>\n",
       "      <td>8.957102</td>\n",
       "      <td>6.129283</td>\n",
       "      <td>1.584963</td>\n",
       "      <td>1.000000</td>\n",
       "      <td>3.906891</td>\n",
       "      <td>5.781360</td>\n",
       "      <td>0.000000</td>\n",
       "      <td>10.115044</td>\n",
       "      <td>14.105581</td>\n",
       "      <td>3.700440</td>\n",
       "      <td>...</td>\n",
       "      <td>3.584963</td>\n",
       "      <td>5.954196</td>\n",
       "      <td>1.584963</td>\n",
       "      <td>8.897845</td>\n",
       "      <td>7.417853</td>\n",
       "      <td>7.169925</td>\n",
       "      <td>3.584963</td>\n",
       "      <td>4.169925</td>\n",
       "      <td>3.584963</td>\n",
       "      <td>0</td>\n",
       "    </tr>\n",
       "    <tr>\n",
       "      <th>PRAD.N.49</th>\n",
       "      <td>6.714246</td>\n",
       "      <td>4.857981</td>\n",
       "      <td>0.000000</td>\n",
       "      <td>1.000000</td>\n",
       "      <td>6.129283</td>\n",
       "      <td>7.748193</td>\n",
       "      <td>1.584963</td>\n",
       "      <td>11.927037</td>\n",
       "      <td>12.580023</td>\n",
       "      <td>2.321928</td>\n",
       "      <td>...</td>\n",
       "      <td>2.321928</td>\n",
       "      <td>6.584963</td>\n",
       "      <td>2.321928</td>\n",
       "      <td>11.730895</td>\n",
       "      <td>5.357552</td>\n",
       "      <td>7.276124</td>\n",
       "      <td>3.000000</td>\n",
       "      <td>2.807355</td>\n",
       "      <td>7.011227</td>\n",
       "      <td>0</td>\n",
       "    </tr>\n",
       "    <tr>\n",
       "      <th>PRAD.N.50</th>\n",
       "      <td>8.348728</td>\n",
       "      <td>5.930737</td>\n",
       "      <td>2.584963</td>\n",
       "      <td>2.584963</td>\n",
       "      <td>4.523562</td>\n",
       "      <td>10.226412</td>\n",
       "      <td>5.807355</td>\n",
       "      <td>11.103943</td>\n",
       "      <td>13.297776</td>\n",
       "      <td>4.169925</td>\n",
       "      <td>...</td>\n",
       "      <td>1.584963</td>\n",
       "      <td>5.954196</td>\n",
       "      <td>2.584963</td>\n",
       "      <td>11.962896</td>\n",
       "      <td>6.044394</td>\n",
       "      <td>6.658211</td>\n",
       "      <td>4.523562</td>\n",
       "      <td>0.000000</td>\n",
       "      <td>5.321928</td>\n",
       "      <td>0</td>\n",
       "    </tr>\n",
       "  </tbody>\n",
       "</table>\n",
       "<p>554 rows × 2404 columns</p>\n",
       "</div>"
      ],
      "text/plain": [
       "                A1BG  A1BG-AS1      A1CF    AACSP1     ABCA4     ABCC11  \\\n",
       "PRAD.T.72   7.209453  4.857981  3.000000  2.584963  3.906891   4.321928   \n",
       "PRAD.T.216  4.700440  3.169925  1.000000  0.000000  2.584963   6.754888   \n",
       "PRAD.T.76   5.727920  4.247928  2.321928  4.754888  4.754888   5.906891   \n",
       "PRAD.T.38   5.087463  2.000000  2.584963  0.000000  4.700440   5.807355   \n",
       "PRAD.T.386  6.209453  3.584963  2.000000  1.000000  3.700440   8.661778   \n",
       "...              ...       ...       ...       ...       ...        ...   \n",
       "PRAD.N.32   9.887221  6.129283  2.584963  0.000000  8.149747   3.169925   \n",
       "PRAD.N.24   9.063395  6.357552  2.321928  2.321928  4.247928   4.000000   \n",
       "PRAD.N.41   8.957102  6.129283  1.584963  1.000000  3.906891   5.781360   \n",
       "PRAD.N.49   6.714246  4.857981  0.000000  1.000000  6.129283   7.748193   \n",
       "PRAD.N.50   8.348728  5.930737  2.584963  2.584963  4.523562  10.226412   \n",
       "\n",
       "              ABCC12      ABCC3      ABCC4   ABCC6P2  ...    ZNF560    ZNF660  \\\n",
       "PRAD.T.72   0.000000   8.396605  14.400613  3.584963  ...  2.584963  5.247928   \n",
       "PRAD.T.216  1.584963   5.044394  13.980318  2.321928  ...  0.000000  4.321928   \n",
       "PRAD.T.76   0.000000   9.544964  14.613329  2.000000  ...  3.000000  5.930737   \n",
       "PRAD.T.38   1.000000   7.707359  14.963619  1.584963  ...  2.000000  4.643856   \n",
       "PRAD.T.386  3.000000   5.285402  14.690216  1.000000  ...  2.000000  4.906891   \n",
       "...              ...        ...        ...       ...  ...       ...       ...   \n",
       "PRAD.N.32   1.000000  12.965604   9.668885  1.000000  ...  1.000000  5.614710   \n",
       "PRAD.N.24   0.000000  10.446049  14.076315  5.209453  ...  2.584963  6.339850   \n",
       "PRAD.N.41   0.000000  10.115044  14.105581  3.700440  ...  3.584963  5.954196   \n",
       "PRAD.N.49   1.584963  11.927037  12.580023  2.321928  ...  2.321928  6.584963   \n",
       "PRAD.N.50   5.807355  11.103943  13.297776  4.169925  ...  1.584963  5.954196   \n",
       "\n",
       "              ZNF695     ZNF750   ZNF804A     ZNF90       ZP1       ZP2  \\\n",
       "PRAD.T.72   2.000000   9.136991  5.285402  4.906891  6.643856  2.321928   \n",
       "PRAD.T.216  3.584963   7.451211  2.807355  5.247928  5.857981  0.000000   \n",
       "PRAD.T.76   3.807355   8.618386  5.044394  6.894818  3.906891  2.321928   \n",
       "PRAD.T.38   3.459432   8.405141  5.247928  4.000000  6.392317  0.000000   \n",
       "PRAD.T.386  4.169925   4.807355  3.459432  3.584963  8.179909  1.000000   \n",
       "...              ...        ...       ...       ...       ...       ...   \n",
       "PRAD.N.32   1.000000  10.743151  4.906891  8.539159  2.807355  0.000000   \n",
       "PRAD.N.24   3.459432   8.778077  6.781360  5.906891  6.108524  3.459432   \n",
       "PRAD.N.41   1.584963   8.897845  7.417853  7.169925  3.584963  4.169925   \n",
       "PRAD.N.49   2.321928  11.730895  5.357552  7.276124  3.000000  2.807355   \n",
       "PRAD.N.50   2.584963  11.962896  6.044394  6.658211  4.523562  0.000000   \n",
       "\n",
       "              ZSCAN4  labels  \n",
       "PRAD.T.72   1.000000       1  \n",
       "PRAD.T.216  0.000000       1  \n",
       "PRAD.T.76   2.000000       1  \n",
       "PRAD.T.38   0.000000       1  \n",
       "PRAD.T.386  0.000000       1  \n",
       "...              ...     ...  \n",
       "PRAD.N.32   5.459432       0  \n",
       "PRAD.N.24   3.906891       0  \n",
       "PRAD.N.41   3.584963       0  \n",
       "PRAD.N.49   7.011227       0  \n",
       "PRAD.N.50   5.321928       0  \n",
       "\n",
       "[554 rows x 2404 columns]"
      ]
     },
     "execution_count": 86,
     "metadata": {},
     "output_type": "execute_result"
    }
   ],
   "source": [
    "combined_PRAD"
   ]
  },
  {
   "cell_type": "code",
   "execution_count": 85,
   "id": "dc6c94f0",
   "metadata": {},
   "outputs": [
    {
     "data": {
      "text/plain": [
       "array([1, 0])"
      ]
     },
     "execution_count": 85,
     "metadata": {},
     "output_type": "execute_result"
    }
   ],
   "source": [
    "# Import label encoder\n",
    "from sklearn import preprocessing\n",
    "# label_encoder object knows how to understand word labels.\n",
    "label_encoder = preprocessing.LabelEncoder()\n",
    "# Encode labels in column 'label'.\n",
    "combined_PRAD['labels']= label_encoder.fit_transform(combined_PRAD['labels'])\n",
    "#To have a list of unique enteries.\n",
    "combined_PRAD['labels'].unique()"
   ]
  },
  {
   "cell_type": "code",
   "execution_count": 5,
   "id": "9b3f96fc",
   "metadata": {},
   "outputs": [
    {
     "data": {
      "text/plain": [
       "1    502\n",
       "0     52\n",
       "Name: labels, dtype: int64"
      ]
     },
     "execution_count": 5,
     "metadata": {},
     "output_type": "execute_result"
    }
   ],
   "source": [
    "#counting the number of classes\n",
    "combined_PRAD[\"labels\"].value_counts()"
   ]
  },
  {
   "cell_type": "code",
   "execution_count": 6,
   "id": "9f17220a",
   "metadata": {},
   "outputs": [],
   "source": [
    "#Assigning the numerical data to a \"X\" variable and labels column into a \"y\" variable that will be used in the next steps\n",
    "X = combined_PRAD.iloc[:,:-1]\n",
    "y = combined_PRAD[\"labels\"]"
   ]
  },
  {
   "cell_type": "code",
   "execution_count": 7,
   "id": "99b67d35",
   "metadata": {},
   "outputs": [],
   "source": [
    "#importing train_test_split \n",
    "from sklearn.model_selection import train_test_split\n",
    "X_train, X_test ,Y_train, Y_test = train_test_split(X,y,test_size =0.30, random_state=42)"
   ]
  },
  {
   "cell_type": "code",
   "execution_count": 8,
   "id": "0534e985",
   "metadata": {},
   "outputs": [],
   "source": [
    "from sklearn.preprocessing import StandardScaler\n",
    "sc= StandardScaler()\n",
    "X_train = sc.fit_transform(X_train)\n",
    "X_test = sc.transform(X_test)"
   ]
  },
  {
   "cell_type": "code",
   "execution_count": 55,
   "id": "a9e65f52",
   "metadata": {},
   "outputs": [],
   "source": [
    "#########Plotting TSNE plot to check whether problem is linear or not#######"
   ]
  },
  {
   "cell_type": "code",
   "execution_count": 56,
   "id": "a0178dee",
   "metadata": {},
   "outputs": [
    {
     "data": {
      "image/png": "[encoded data removed]",
      "text/plain": [
       "<Figure size 432x288 with 1 Axes>"
      ]
     },
     "metadata": {
      "needs_background": "light"
     },
     "output_type": "display_data"
    }
   ],
   "source": [
    "import matplotlib.pyplot as plt\n",
    "import seaborn as sns\n",
    "from sklearn.manifold import TSNE\n",
    "fig, ax = plt.subplots()\n",
    "m = TSNE(learning_rate=50)\n",
    "X_tsne = m.fit_transform(X)\n",
    "combined_PRAD[\"y\"] = Y_train\n",
    "combined_PRAD[\"comp-1\"] = X_tsne[:,0]\n",
    "combined_PRAD[\"comp-2\"] = X_tsne[:,1]"
   ]
  },
  {
   "cell_type": "code",
   "execution_count": 57,
   "id": "4e44ea74",
   "metadata": {},
   "outputs": [
    {
     "data": {
      "image/png": "[encoded data removed]",
      "text/plain": [
       "<Figure size 432x288 with 1 Axes>"
      ]
     },
     "metadata": {
      "needs_background": "light"
     },
     "output_type": "display_data"
    }
   ],
   "source": [
    "sns.scatterplot(x=\"comp-1\", y=\"comp-2\", hue=combined_PRAD.y.tolist(),\n",
    "                palette=sns.color_palette('husl', 2),\n",
    "                data=combined_PRAD).set(title=\"Cancer data T-SNE projection\")\n",
    "plt.savefig(\"TSNE-plot.png\", dpi = 600)"
   ]
  },
  {
   "cell_type": "code",
   "execution_count": 11,
   "id": "e0e25de3",
   "metadata": {},
   "outputs": [],
   "source": [
    "from sklearn.metrics import accuracy_score\n",
    "from sklearn.metrics import precision_score\n",
    "from sklearn.metrics import recall_score\n",
    "from sklearn.metrics import f1_score\n",
    "import matplotlib.pyplot as plt\n",
    "from sklearn.metrics import plot_confusion_matrix"
   ]
  },
  {
   "cell_type": "code",
   "execution_count": 12,
   "id": "84ad13c5",
   "metadata": {},
   "outputs": [],
   "source": [
    "from sklearn.neighbors import KNeighborsClassifier"
   ]
  },
  {
   "cell_type": "code",
   "execution_count": 13,
   "id": "69df017a",
   "metadata": {},
   "outputs": [
    {
     "name": "stdout",
     "output_type": "stream",
     "text": [
      "accuracy 0.9640718562874252\n"
     ]
    }
   ],
   "source": [
    "KNN = KNeighborsClassifier(n_neighbors=7, metric='minkowski', p=1)\n",
    "KNN.fit(X_train,Y_train)\n",
    "# predict samples in the test set\n",
    "prediction = KNN.predict(X_test)\n",
    "Accuracy = accuracy_score(Y_test,prediction)\n",
    "print('accuracy',Accuracy)"
   ]
  },
  {
   "cell_type": "code",
   "execution_count": 14,
   "id": "391cff0a",
   "metadata": {},
   "outputs": [
    {
     "name": "stdout",
     "output_type": "stream",
     "text": [
      "0.9664429530201343\n",
      "0.993103448275862\n",
      "0.9795918367346937\n"
     ]
    }
   ],
   "source": [
    "#Printing precision, recall and f1_scores\n",
    "print(precision_score(Y_test,prediction))\n",
    "print(recall_score(Y_test,prediction))\n",
    "print(f1_score(Y_test,prediction))"
   ]
  },
  {
   "cell_type": "code",
   "execution_count": 15,
   "id": "f883df31",
   "metadata": {},
   "outputs": [
    {
     "data": {
      "image/png": "[encoded data removed]",
      "text/plain": [
       "<Figure size 720x432 with 2 Axes>"
      ]
     },
     "metadata": {
      "needs_background": "light"
     },
     "output_type": "display_data"
    }
   ],
   "source": [
    "matrix= plot_confusion_matrix(KNN,X_test,Y_test,cmap=plt.cm.Greens)\n",
    "plt.xlabel('predicted label',color='black')\n",
    "plt.ylabel('true label',color='black')\n",
    "plt.gcf().axes[0].tick_params(color='white')\n",
    "plt.gcf().axes[1].tick_params(color='white')\n",
    "plt.gcf().set_size_inches(10,6)\n",
    "plt.savefig(\"KNN.png\", dpi = 600)\n",
    "plt.show()"
   ]
  },
  {
   "cell_type": "code",
   "execution_count": 16,
   "id": "9ad762cf",
   "metadata": {},
   "outputs": [],
   "source": [
    "# roc curve and auc\n",
    "from sklearn.metrics import roc_curve\n",
    "from sklearn.metrics import roc_auc_score\n",
    "from matplotlib import pyplot"
   ]
  },
  {
   "cell_type": "code",
   "execution_count": 17,
   "id": "a1903bfe",
   "metadata": {},
   "outputs": [],
   "source": [
    "KNN_probs = KNN.predict_proba(X_test)\n",
    "KNN_probs = KNN_probs[:, 1]\n",
    "KNN_auc = roc_auc_score(Y_test, KNN_probs)\n",
    "KNN_fpr, KNN_tpr, _ = roc_curve(Y_test, KNN_probs)"
   ]
  },
  {
   "cell_type": "code",
   "execution_count": 18,
   "id": "b0c5ed1b",
   "metadata": {},
   "outputs": [
    {
     "data": {
      "image/png": "[encoded data removed]",
      "text/plain": [
       "<Figure size 504x360 with 1 Axes>"
      ]
     },
     "metadata": {
      "needs_background": "light"
     },
     "output_type": "display_data"
    }
   ],
   "source": [
    "# plot the roc curve for the model\n",
    "fig = pyplot.figure(figsize=(7, 5))\n",
    "pyplot.plot(KNN_fpr, KNN_tpr ,label='KNN =%.3f' % (KNN_auc))\n",
    "params = {'legend.fontsize': 10,\n",
    "          'legend.handlelength': 2}\n",
    "pyplot.rcParams.update(params)\n",
    "pyplot.legend()\n",
    "pyplot.ylabel('Precision', fontsize=15)\n",
    "pyplot.xlabel('Recall', fontsize=15)\n",
    "pyplot.xticks(fontsize=12)\n",
    "pyplot.yticks(fontsize=12)\n",
    "#Show legend\n",
    "pyplot.legend() # \n",
    "#plt.savefig(\"PR_curve.png\", dpi = 600)\n",
    "pyplot.show()"
   ]
  },
  {
   "cell_type": "code",
   "execution_count": 19,
   "id": "dd635e02",
   "metadata": {},
   "outputs": [
    {
     "name": "stdout",
     "output_type": "stream",
     "text": [
      "accuracy 0.9880239520958084\n"
     ]
    }
   ],
   "source": [
    "#SVC_linear\n",
    "from sklearn.svm import SVC\n",
    "svm_linear = SVC(kernel='linear', probability=True, random_state=40)\n",
    "svm_linear.fit(X_train,Y_train).decision_function(X_test)\n",
    "prediction = svm_linear.predict(X_test)\n",
    "Accuracy = accuracy_score(Y_test,prediction)\n",
    "print('accuracy',Accuracy)"
   ]
  },
  {
   "cell_type": "code",
   "execution_count": 20,
   "id": "784da048",
   "metadata": {},
   "outputs": [
    {
     "name": "stdout",
     "output_type": "stream",
     "text": [
      "0.993103448275862\n",
      "0.993103448275862\n",
      "0.993103448275862\n"
     ]
    }
   ],
   "source": [
    "#Printing precision, recall and f1_scores\n",
    "print(precision_score(Y_test,prediction))\n",
    "print(recall_score(Y_test,prediction))\n",
    "print(f1_score(Y_test,prediction))"
   ]
  },
  {
   "cell_type": "code",
   "execution_count": 21,
   "id": "8164806a",
   "metadata": {},
   "outputs": [
    {
     "data": {
      "image/png": "[encoded data removed]",
      "text/plain": [
       "<Figure size 720x432 with 2 Axes>"
      ]
     },
     "metadata": {
      "needs_background": "light"
     },
     "output_type": "display_data"
    }
   ],
   "source": [
    "matrix= plot_confusion_matrix(svm_linear,X_test,Y_test,cmap=plt.cm.Greens)\n",
    "plt.xlabel('predicted label',color='black')\n",
    "plt.ylabel('true label',color='black')\n",
    "plt.gcf().axes[0].tick_params(color='white')\n",
    "plt.gcf().axes[1].tick_params(color='white')\n",
    "plt.gcf().set_size_inches(10,6)\n",
    "plt.savefig(\"svm_linear.png\", dpi = 600)\n",
    "plt.show()"
   ]
  },
  {
   "cell_type": "code",
   "execution_count": 22,
   "id": "ccbd9c97",
   "metadata": {},
   "outputs": [],
   "source": [
    "svm_linear_probs = svm_linear.predict_proba(X_test)\n",
    "svm_linear_probs = svm_linear_probs[:, 1]\n",
    "svm_linear_auc = roc_auc_score(Y_test, svm_linear_probs)\n",
    "svm_linear_fpr, svm_linear_tpr, _ = roc_curve(Y_test, svm_linear_probs)"
   ]
  },
  {
   "cell_type": "code",
   "execution_count": 23,
   "id": "7887f65b",
   "metadata": {},
   "outputs": [
    {
     "data": {
      "image/png": "[encoded data removed]",
      "text/plain": [
       "<Figure size 504x360 with 1 Axes>"
      ]
     },
     "metadata": {
      "needs_background": "light"
     },
     "output_type": "display_data"
    }
   ],
   "source": [
    "# plot the roc curve for the model\n",
    "fig = pyplot.figure(figsize=(7, 5))\n",
    "pyplot.plot(svm_linear_fpr, svm_linear_tpr ,label='SVM_Linear =%.3f' % (svm_linear_auc))\n",
    "params = {'legend.fontsize': 10,\n",
    "          'legend.handlelength': 2}\n",
    "pyplot.rcParams.update(params)\n",
    "pyplot.legend()\n",
    "pyplot.ylabel('True Positive Rate', fontsize=15)\n",
    "pyplot.xlabel('False Positive Rate', fontsize=15)\n",
    "pyplot.xticks(fontsize=12)\n",
    "pyplot.yticks(fontsize=12)\n",
    "#Show legend\n",
    "pyplot.legend() # \n",
    "#plt.savefig(\"AUC_ROC.png\", dpi = 600)\n",
    "pyplot.show()"
   ]
  },
  {
   "cell_type": "code",
   "execution_count": 24,
   "id": "3fb45c8f",
   "metadata": {},
   "outputs": [
    {
     "name": "stdout",
     "output_type": "stream",
     "text": [
      "accuracy 0.9580838323353293\n"
     ]
    }
   ],
   "source": [
    "#SVC_poly\n",
    "from sklearn.svm import SVC\n",
    "# Training a SVM classifier using SVC class\n",
    "svm_poly = SVC(kernel='poly', probability=True, random_state=40)\n",
    "svm_poly.fit(X_train,Y_train).decision_function(X_test)\n",
    "prediction = svm_poly.predict(X_test)\n",
    "Accuracy = accuracy_score(Y_test,prediction)\n",
    "print('accuracy',Accuracy)"
   ]
  },
  {
   "cell_type": "code",
   "execution_count": 25,
   "id": "d277f946",
   "metadata": {},
   "outputs": [
    {
     "name": "stdout",
     "output_type": "stream",
     "text": [
      "0.96\n",
      "0.993103448275862\n",
      "0.976271186440678\n"
     ]
    }
   ],
   "source": [
    "#Printing precision, recall and f1_scores\n",
    "print(precision_score(Y_test,prediction))\n",
    "print(recall_score(Y_test,prediction))\n",
    "print(f1_score(Y_test,prediction))"
   ]
  },
  {
   "cell_type": "code",
   "execution_count": 26,
   "id": "3ca59d37",
   "metadata": {},
   "outputs": [
    {
     "data": {
      "image/png": "[encoded data removed]",
      "text/plain": [
       "<Figure size 720x432 with 2 Axes>"
      ]
     },
     "metadata": {
      "needs_background": "light"
     },
     "output_type": "display_data"
    }
   ],
   "source": [
    "matrix= plot_confusion_matrix(svm_poly,X_test,Y_test,cmap=plt.cm.Greens)\n",
    "plt.xlabel('predicted label',color='black')\n",
    "plt.ylabel('true label',color='black')\n",
    "plt.gcf().axes[0].tick_params(color='white')\n",
    "plt.gcf().axes[1].tick_params(color='white')\n",
    "plt.gcf().set_size_inches(10,6)\n",
    "plt.savefig(\"svm_poly.png\", dpi = 600)\n",
    "plt.show()"
   ]
  },
  {
   "cell_type": "code",
   "execution_count": 27,
   "id": "3d6b18e7",
   "metadata": {},
   "outputs": [],
   "source": [
    "svm_poly_probs = svm_poly.predict_proba(X_test)\n",
    "svm_poly_probs = svm_poly_probs[:, 1]\n",
    "svm_poly_auc = roc_auc_score(Y_test, svm_poly_probs)\n",
    "svm_poly_fpr, svm_poly_tpr, _ = roc_curve(Y_test, svm_poly_probs)"
   ]
  },
  {
   "cell_type": "code",
   "execution_count": 28,
   "id": "6e84914d",
   "metadata": {},
   "outputs": [
    {
     "data": {
      "image/png": "[encoded data removed]",
      "text/plain": [
       "<Figure size 504x360 with 1 Axes>"
      ]
     },
     "metadata": {
      "needs_background": "light"
     },
     "output_type": "display_data"
    }
   ],
   "source": [
    "# plot the roc curve for the model\n",
    "fig = pyplot.figure(figsize=(7, 5))\n",
    "pyplot.plot(svm_poly_fpr, svm_poly_tpr ,label='SVM_poly =%.3f' % (svm_poly_auc))\n",
    "params = {'legend.fontsize': 10,\n",
    "          'legend.handlelength': 2}\n",
    "pyplot.rcParams.update(params)\n",
    "pyplot.legend()\n",
    "pyplot.ylabel('True Positive Rate', fontsize=15)\n",
    "pyplot.xlabel('False Positive Rate', fontsize=15)\n",
    "pyplot.xticks(fontsize=12)\n",
    "pyplot.yticks(fontsize=12)\n",
    "#Show legend\n",
    "pyplot.legend() # \n",
    "#plt.savefig(\"AUC_ROC.png\", dpi = 600)\n",
    "pyplot.show()"
   ]
  },
  {
   "cell_type": "code",
   "execution_count": 29,
   "id": "5edf7cdb",
   "metadata": {},
   "outputs": [
    {
     "name": "stdout",
     "output_type": "stream",
     "text": [
      "accuracy 0.9461077844311377\n"
     ]
    }
   ],
   "source": [
    "#SVC_RBF \n",
    "from sklearn.svm import SVC\n",
    "# Training a SVM classifier using SVC class\n",
    "svm_rbf = SVC(kernel='rbf', probability=True, random_state=40)\n",
    "svm_rbf.fit(X_train,Y_train).decision_function(X_test)\n",
    "prediction = svm_rbf.predict(X_test)\n",
    "Accuracy = accuracy_score(Y_test,prediction)\n",
    "print('accuracy',Accuracy)"
   ]
  },
  {
   "cell_type": "code",
   "execution_count": 30,
   "id": "021867e3",
   "metadata": {},
   "outputs": [
    {
     "name": "stdout",
     "output_type": "stream",
     "text": [
      "0.9473684210526315\n",
      "0.993103448275862\n",
      "0.9696969696969696\n"
     ]
    }
   ],
   "source": [
    "print(precision_score(Y_test,prediction))\n",
    "print(recall_score(Y_test,prediction))\n",
    "print(f1_score(Y_test,prediction))"
   ]
  },
  {
   "cell_type": "code",
   "execution_count": 31,
   "id": "3f99c069",
   "metadata": {},
   "outputs": [
    {
     "data": {
      "image/png": "[encoded data removed]",
      "text/plain": [
       "<Figure size 720x432 with 2 Axes>"
      ]
     },
     "metadata": {
      "needs_background": "light"
     },
     "output_type": "display_data"
    }
   ],
   "source": [
    "matrix= plot_confusion_matrix(svm_rbf,X_test,Y_test,cmap=plt.cm.Greens)\n",
    "plt.xlabel('predicted label',color='black')\n",
    "plt.ylabel('true label',color='black')\n",
    "plt.gcf().axes[0].tick_params(color='white')\n",
    "plt.gcf().axes[1].tick_params(color='white')\n",
    "plt.gcf().set_size_inches(10,6)\n",
    "plt.savefig(\"svm_rbf.png\", dpi = 600)\n",
    "plt.show()"
   ]
  },
  {
   "cell_type": "code",
   "execution_count": 32,
   "id": "82aa3fcf",
   "metadata": {},
   "outputs": [],
   "source": [
    "svm_rbf_probs = svm_rbf.predict_proba(X_test)\n",
    "svm_rbf_probs = svm_rbf_probs[:, 1]\n",
    "svm_rbf_auc = roc_auc_score(Y_test, svm_rbf_probs)\n",
    "svm_rbf_fpr, svm_rbf_tpr, _ = roc_curve(Y_test, svm_rbf_probs)"
   ]
  },
  {
   "cell_type": "code",
   "execution_count": 33,
   "id": "07f9215e",
   "metadata": {},
   "outputs": [
    {
     "data": {
      "image/png": "[encoded data removed]",
      "text/plain": [
       "<Figure size 504x360 with 1 Axes>"
      ]
     },
     "metadata": {
      "needs_background": "light"
     },
     "output_type": "display_data"
    }
   ],
   "source": [
    "# plot the roc curve for the model\n",
    "fig = pyplot.figure(figsize=(7, 5))\n",
    "pyplot.plot(svm_rbf_fpr, svm_rbf_tpr ,label='SVM_rbf =%.3f' % (svm_rbf_auc))\n",
    "params = {'legend.fontsize': 10,\n",
    "          'legend.handlelength': 2}\n",
    "pyplot.rcParams.update(params)\n",
    "pyplot.legend()\n",
    "pyplot.ylabel('True Positive Rate', fontsize=15)\n",
    "pyplot.xlabel('False Positive Rate', fontsize=15)\n",
    "pyplot.xticks(fontsize=12)\n",
    "pyplot.yticks(fontsize=12)\n",
    "#Show legend\n",
    "pyplot.legend() # \n",
    "#plt.savefig(\"AUC_ROC.png\", dpi = 600)\n",
    "pyplot.show()"
   ]
  },
  {
   "cell_type": "code",
   "execution_count": 34,
   "id": "cc6ecaab",
   "metadata": {},
   "outputs": [
    {
     "name": "stdout",
     "output_type": "stream",
     "text": [
      "accuracy 0.9880239520958084\n"
     ]
    },
    {
     "name": "stderr",
     "output_type": "stream",
     "text": [
      "C:\\Users\\Muhammad_Numan\\anaconda3\\lib\\site-packages\\sklearn\\linear_model\\_logistic.py:763: ConvergenceWarning: lbfgs failed to converge (status=1):\n",
      "STOP: TOTAL NO. of ITERATIONS REACHED LIMIT.\n",
      "\n",
      "Increase the number of iterations (max_iter) or scale the data as shown in:\n",
      "    https://scikit-learn.org/stable/modules/preprocessing.html\n",
      "Please also refer to the documentation for alternative solver options:\n",
      "    https://scikit-learn.org/stable/modules/linear_model.html#logistic-regression\n",
      "  n_iter_i = _check_optimize_result(\n"
     ]
    }
   ],
   "source": [
    "from sklearn.linear_model import LogisticRegression\n",
    "LR = LogisticRegression()\n",
    "LR.fit(X_train,Y_train).decision_function(X_test)\n",
    "prediction = LR.predict(X_test)\n",
    "Accuracy = accuracy_score(Y_test,prediction)\n",
    "print('accuracy',Accuracy)"
   ]
  },
  {
   "cell_type": "code",
   "execution_count": 35,
   "id": "a31c8f9a",
   "metadata": {},
   "outputs": [
    {
     "name": "stdout",
     "output_type": "stream",
     "text": [
      "0.993103448275862\n",
      "0.993103448275862\n",
      "0.993103448275862\n"
     ]
    }
   ],
   "source": [
    "print(precision_score(Y_test,prediction))\n",
    "print(recall_score(Y_test,prediction))\n",
    "print(f1_score(Y_test,prediction))"
   ]
  },
  {
   "cell_type": "code",
   "execution_count": 36,
   "id": "dfb07713",
   "metadata": {},
   "outputs": [
    {
     "data": {
      "image/png": "[encoded data removed]",
      "text/plain": [
       "<Figure size 720x432 with 2 Axes>"
      ]
     },
     "metadata": {
      "needs_background": "light"
     },
     "output_type": "display_data"
    }
   ],
   "source": [
    "plot_confusion_matrix(LR,X_test,Y_test,cmap=plt.cm.Greens)\n",
    "plt.xlabel('predicted label',color='black')\n",
    "plt.ylabel('true label',color='black')\n",
    "plt.gcf().axes[0].tick_params(color='white')\n",
    "plt.gcf().axes[1].tick_params(color='white')\n",
    "plt.gcf().set_size_inches(10,6)\n",
    "plt.savefig(\"LR.png\", dpi = 600)\n",
    "plt.show()"
   ]
  },
  {
   "cell_type": "code",
   "execution_count": 37,
   "id": "cd776aa6",
   "metadata": {},
   "outputs": [],
   "source": [
    "LR_probs = LR.predict_proba(X_test)\n",
    "LR_probs = LR_probs[:, 1]\n",
    "LR_auc = roc_auc_score(Y_test, LR_probs)\n",
    "LR_fpr, LR_tpr, _ = roc_curve(Y_test, LR_probs)"
   ]
  },
  {
   "cell_type": "code",
   "execution_count": 38,
   "id": "195c8460",
   "metadata": {
    "scrolled": true
   },
   "outputs": [
    {
     "data": {
      "image/png": "[encoded data removed]",
      "text/plain": [
       "<Figure size 504x360 with 1 Axes>"
      ]
     },
     "metadata": {
      "needs_background": "light"
     },
     "output_type": "display_data"
    }
   ],
   "source": [
    "# plot the roc curve for the model\n",
    "fig = pyplot.figure(figsize=(7, 5))\n",
    "pyplot.plot(LR_fpr, LR_tpr ,label='LR =%.3f' % (LR_auc))\n",
    "params = {'legend.fontsize': 10,\n",
    "          'legend.handlelength': 2}\n",
    "pyplot.rcParams.update(params)\n",
    "pyplot.legend()\n",
    "pyplot.ylabel('True Positive Rate', fontsize=15)\n",
    "pyplot.xlabel('False Positive Rate', fontsize=15)\n",
    "pyplot.xticks(fontsize=12)\n",
    "pyplot.yticks(fontsize=12)\n",
    "#Show legend\n",
    "pyplot.legend() # \n",
    "#plt.savefig(\"AUC_ROC.png\", dpi = 600)\n",
    "pyplot.show()"
   ]
  },
  {
   "cell_type": "code",
   "execution_count": 39,
   "id": "e911533e",
   "metadata": {},
   "outputs": [
    {
     "name": "stdout",
     "output_type": "stream",
     "text": [
      "accuracy 0.9401197604790419\n"
     ]
    }
   ],
   "source": [
    "#Naive bayes\n",
    "from sklearn.naive_bayes import GaussianNB\n",
    "NB = GaussianNB()\n",
    "NB.fit(X_train, Y_train)\n",
    "prediction = NB.predict(X_test)\n",
    "Accuracy = accuracy_score(Y_test,prediction)\n",
    "print('accuracy',Accuracy)"
   ]
  },
  {
   "cell_type": "code",
   "execution_count": 40,
   "id": "ff569991",
   "metadata": {},
   "outputs": [
    {
     "name": "stdout",
     "output_type": "stream",
     "text": [
      "1.0\n",
      "0.9310344827586207\n",
      "0.9642857142857143\n"
     ]
    }
   ],
   "source": [
    "print(precision_score(Y_test,prediction))\n",
    "print(recall_score(Y_test,prediction))\n",
    "print(f1_score(Y_test,prediction))"
   ]
  },
  {
   "cell_type": "code",
   "execution_count": 41,
   "id": "2170225e",
   "metadata": {},
   "outputs": [
    {
     "data": {
      "image/png": "[encoded data removed]",
      "text/plain": [
       "<Figure size 720x432 with 2 Axes>"
      ]
     },
     "metadata": {
      "needs_background": "light"
     },
     "output_type": "display_data"
    }
   ],
   "source": [
    "plot_confusion_matrix(NB,X_test,Y_test,cmap=plt.cm.Greens)\n",
    "plt.xlabel('predicted label',color='black')\n",
    "plt.ylabel('true label',color='black')\n",
    "plt.gcf().axes[0].tick_params(color='white')\n",
    "plt.gcf().axes[1].tick_params(color='white')\n",
    "plt.gcf().set_size_inches(10,6)\n",
    "plt.savefig(\"GNB.png\", dpi = 600)\n",
    "plt.show()"
   ]
  },
  {
   "cell_type": "code",
   "execution_count": 42,
   "id": "11e0b55c",
   "metadata": {},
   "outputs": [],
   "source": [
    "NB_probs = NB.predict_proba(X_test)\n",
    "NB_probs = NB_probs[:, 1]\n",
    "NB_auc = roc_auc_score(Y_test, NB_probs)\n",
    "NB_fpr, NB_tpr, _ = roc_curve(Y_test, NB_probs)"
   ]
  },
  {
   "cell_type": "code",
   "execution_count": 43,
   "id": "30e17067",
   "metadata": {
    "scrolled": true
   },
   "outputs": [
    {
     "data": {
      "image/png": "[encoded data removed]",
      "text/plain": [
       "<Figure size 504x360 with 1 Axes>"
      ]
     },
     "metadata": {
      "needs_background": "light"
     },
     "output_type": "display_data"
    }
   ],
   "source": [
    "# plot the roc curve for the model\n",
    "fig = pyplot.figure(figsize=(7, 5))\n",
    "pyplot.plot(NB_fpr, NB_tpr ,label='NB =%.3f' % (NB_auc))\n",
    "params = {'legend.fontsize': 10,\n",
    "          'legend.handlelength': 2}\n",
    "pyplot.rcParams.update(params)\n",
    "pyplot.legend()\n",
    "pyplot.ylabel('True Positive Rate', fontsize=15)\n",
    "pyplot.xlabel('False Positive Rate', fontsize=15)\n",
    "pyplot.xticks(fontsize=12)\n",
    "pyplot.yticks(fontsize=12)\n",
    "#Show legend\n",
    "pyplot.legend() # \n",
    "#plt.savefig(\"AUC_ROC.png\", dpi = 600)\n",
    "pyplot.show()"
   ]
  },
  {
   "cell_type": "code",
   "execution_count": 44,
   "id": "e83fb94f",
   "metadata": {},
   "outputs": [
    {
     "name": "stdout",
     "output_type": "stream",
     "text": [
      "accuracy 0.9880239520958084\n"
     ]
    }
   ],
   "source": [
    "#DECISION TREE CLASSIFIER\n",
    "from sklearn.tree import DecisionTreeClassifier  \n",
    "DT= DecisionTreeClassifier(random_state=0)\n",
    "DT.fit(X_train, Y_train)\n",
    "prediction = DT.predict(X_test)\n",
    "Accuracy = accuracy_score(Y_test,prediction)\n",
    "print('accuracy',Accuracy)"
   ]
  },
  {
   "cell_type": "code",
   "execution_count": 45,
   "id": "2522f775",
   "metadata": {},
   "outputs": [
    {
     "name": "stdout",
     "output_type": "stream",
     "text": [
      "0.993103448275862\n",
      "0.993103448275862\n",
      "0.993103448275862\n"
     ]
    }
   ],
   "source": [
    "print(precision_score(Y_test,prediction))\n",
    "print(recall_score(Y_test,prediction))\n",
    "print(f1_score(Y_test,prediction))"
   ]
  },
  {
   "cell_type": "code",
   "execution_count": 46,
   "id": "9dcca2bb",
   "metadata": {},
   "outputs": [
    {
     "data": {
      "image/png": "[encoded data removed]",
      "text/plain": [
       "<Figure size 720x432 with 2 Axes>"
      ]
     },
     "metadata": {
      "needs_background": "light"
     },
     "output_type": "display_data"
    }
   ],
   "source": [
    "plot_confusion_matrix(DT,X_test,Y_test,cmap=plt.cm.Greens)\n",
    "plt.xlabel('predicted label',color='black')\n",
    "plt.ylabel('true label',color='black')\n",
    "plt.gcf().axes[0].tick_params(color='white')\n",
    "plt.gcf().axes[1].tick_params(color='white')\n",
    "plt.gcf().set_size_inches(10,6)\n",
    "plt.savefig(\"DT.png\", dpi = 600)\n",
    "plt.show()"
   ]
  },
  {
   "cell_type": "code",
   "execution_count": 47,
   "id": "b4d0848e",
   "metadata": {},
   "outputs": [],
   "source": [
    "DT_probs = DT.predict_proba(X_test)\n",
    "DT_probs = DT_probs[:, 1]\n",
    "DT_auc = roc_auc_score(Y_test, DT_probs)\n",
    "DT_fpr, DT_tpr, _ = roc_curve(Y_test, DT_probs)"
   ]
  },
  {
   "cell_type": "code",
   "execution_count": 48,
   "id": "6b003ede",
   "metadata": {
    "scrolled": true
   },
   "outputs": [
    {
     "data": {
      "image/png": "[encoded data removed]",
      "text/plain": [
       "<Figure size 504x360 with 1 Axes>"
      ]
     },
     "metadata": {
      "needs_background": "light"
     },
     "output_type": "display_data"
    }
   ],
   "source": [
    "# plot the roc curve for the model\n",
    "fig = pyplot.figure(figsize=(7, 5))\n",
    "pyplot.plot(DT_fpr, DT_tpr ,label='DT =%.3f' % (DT_auc))\n",
    "params = {'legend.fontsize': 10,\n",
    "          'legend.handlelength': 2}\n",
    "pyplot.rcParams.update(params)\n",
    "pyplot.legend()\n",
    "pyplot.ylabel('True Positive Rate', fontsize=15)\n",
    "pyplot.xlabel('False Positive Rate', fontsize=15)\n",
    "pyplot.xticks(fontsize=12)\n",
    "pyplot.yticks(fontsize=12)\n",
    "#Show legend\n",
    "pyplot.legend() # \n",
    "#plt.savefig(\"AUC_ROC.png\", dpi = 600)\n",
    "pyplot.show()"
   ]
  },
  {
   "cell_type": "code",
   "execution_count": 49,
   "id": "36de9012",
   "metadata": {},
   "outputs": [
    {
     "name": "stdout",
     "output_type": "stream",
     "text": [
      "accuracy 0.9760479041916168\n"
     ]
    }
   ],
   "source": [
    "from sklearn.neural_network import MLPClassifier\n",
    "MLP = MLPClassifier()\n",
    "MLP.fit(X_train, Y_train)\n",
    "prediction = MLP.predict(X_test)\n",
    "Accuracy = accuracy_score(Y_test,prediction)\n",
    "print('accuracy',Accuracy)"
   ]
  },
  {
   "cell_type": "code",
   "execution_count": 50,
   "id": "ed52abd4",
   "metadata": {},
   "outputs": [
    {
     "name": "stdout",
     "output_type": "stream",
     "text": [
      "0.9862068965517241\n",
      "0.9862068965517241\n",
      "0.9862068965517241\n"
     ]
    }
   ],
   "source": [
    "print(precision_score(Y_test,prediction))\n",
    "print(recall_score(Y_test,prediction))\n",
    "print(f1_score(Y_test,prediction))"
   ]
  },
  {
   "cell_type": "code",
   "execution_count": 51,
   "id": "f70e8c6e",
   "metadata": {},
   "outputs": [
    {
     "data": {
      "image/png": "[encoded data removed]",
      "text/plain": [
       "<Figure size 720x432 with 2 Axes>"
      ]
     },
     "metadata": {
      "needs_background": "light"
     },
     "output_type": "display_data"
    }
   ],
   "source": [
    "plot_confusion_matrix(MLP,X_test,Y_test,cmap=plt.cm.Greens)\n",
    "plt.xlabel('predicted label',color='black')\n",
    "plt.ylabel('true label',color='black')\n",
    "plt.gcf().axes[0].tick_params(color='white')\n",
    "plt.gcf().axes[1].tick_params(color='white')\n",
    "plt.gcf().set_size_inches(10,6)\n",
    "plt.savefig(\"MLP.png\", dpi = 600)\n",
    "plt.show()"
   ]
  },
  {
   "cell_type": "code",
   "execution_count": 72,
   "id": "7d832233",
   "metadata": {},
   "outputs": [],
   "source": [
    "MLP_probs = MLP.predict_proba(X_test)\n",
    "MLP_probs = MLP_probs[:,1]\n",
    "MLP_auc = roc_auc_score(Y_test, MLP_probs)\n",
    "MLP_fpr, MLP_tpr, _ = roc_curve(Y_test, MLP_probs)"
   ]
  },
  {
   "cell_type": "code",
   "execution_count": 75,
   "id": "9336b838",
   "metadata": {},
   "outputs": [
    {
     "data": {
      "image/png": "[encoded data removed]",
      "text/plain": [
       "<Figure size 504x360 with 1 Axes>"
      ]
     },
     "metadata": {
      "needs_background": "light"
     },
     "output_type": "display_data"
    }
   ],
   "source": [
    "# plot the roc curve for the model\n",
    "fig = pyplot.figure(figsize=(7, 5))\n",
    "pyplot.plot(MLP_fpr, MLP_tpr ,label='MLP =%.3f' % (MLP_auc))\n",
    "params = {'legend.fontsize': 10,\n",
    "          'legend.handlelength': 2}\n",
    "pyplot.rcParams.update(params)\n",
    "pyplot.legend()\n",
    "pyplot.ylabel('True Positive Rate', fontsize=15)\n",
    "pyplot.xlabel('False Positive Rate', fontsize=15)\n",
    "pyplot.xticks(fontsize=12)\n",
    "pyplot.yticks(fontsize=12)\n",
    "#Show legend\n",
    "pyplot.legend() # \n",
    "#plt.savefig(\"AUC_ROC.png\", dpi = 600)\n",
    "pyplot.show()"
   ]
  },
  {
   "cell_type": "code",
   "execution_count": 76,
   "id": "22aa0329",
   "metadata": {},
   "outputs": [
    {
     "name": "stdout",
     "output_type": "stream",
     "text": [
      "accuracy 0.9760479041916168\n"
     ]
    }
   ],
   "source": [
    "from sklearn.ensemble import AdaBoostClassifier\n",
    "# define the model\n",
    "AB = AdaBoostClassifier()\n",
    "AB.fit(X_train, Y_train)\n",
    "prediction = AB.predict(X_test)\n",
    "Accuracy = accuracy_score(Y_test,prediction)\n",
    "print('accuracy',Accuracy)"
   ]
  },
  {
   "cell_type": "code",
   "execution_count": 77,
   "id": "221d7c8e",
   "metadata": {},
   "outputs": [
    {
     "name": "stdout",
     "output_type": "stream",
     "text": [
      "0.993006993006993\n",
      "0.9793103448275862\n",
      "0.986111111111111\n"
     ]
    }
   ],
   "source": [
    "print(precision_score(Y_test,prediction))\n",
    "print(recall_score(Y_test,prediction))\n",
    "print(f1_score(Y_test,prediction))"
   ]
  },
  {
   "cell_type": "code",
   "execution_count": 78,
   "id": "1e0e195e",
   "metadata": {
    "scrolled": false
   },
   "outputs": [
    {
     "data": {
      "image/png": "[encoded data removed]",
      "text/plain": [
       "<Figure size 720x432 with 2 Axes>"
      ]
     },
     "metadata": {
      "needs_background": "light"
     },
     "output_type": "display_data"
    }
   ],
   "source": [
    "plot_confusion_matrix(AB,X_test,Y_test,cmap=plt.cm.Greens)\n",
    "plt.xlabel('predicted label',color='black')\n",
    "plt.ylabel('true label',color='black')\n",
    "plt.gcf().axes[0].tick_params(color='white')\n",
    "plt.gcf().axes[1].tick_params(color='white')\n",
    "plt.gcf().set_size_inches(10,6)\n",
    "plt.savefig(\"AB.png\", dpi = 600)\n",
    "plt.show()"
   ]
  },
  {
   "cell_type": "code",
   "execution_count": 79,
   "id": "34e2b870",
   "metadata": {},
   "outputs": [],
   "source": [
    "AB_probs = AB.predict_proba(X_test)\n",
    "AB_probs = AB_probs[:, 1]\n",
    "AB_auc = roc_auc_score(Y_test, AB_probs)\n",
    "AB_fpr, AB_tpr, _ = roc_curve(Y_test, AB_probs)"
   ]
  },
  {
   "cell_type": "code",
   "execution_count": 80,
   "id": "d2746cef",
   "metadata": {
    "scrolled": true
   },
   "outputs": [
    {
     "data": {
      "image/png": "[encoded data removed]",
      "text/plain": [
       "<Figure size 504x360 with 1 Axes>"
      ]
     },
     "metadata": {
      "needs_background": "light"
     },
     "output_type": "display_data"
    }
   ],
   "source": [
    "# plot the roc curve for the model\n",
    "fig = pyplot.figure(figsize=(7, 5))\n",
    "pyplot.plot(AB_fpr, AB_tpr ,label='AB =%.3f' % (AB_auc))\n",
    "params = {'legend.fontsize': 10,\n",
    "          'legend.handlelength': 2}\n",
    "pyplot.rcParams.update(params)\n",
    "pyplot.legend()\n",
    "pyplot.ylabel('True Positive Rate', fontsize=15)\n",
    "pyplot.xlabel('False Positive Rate', fontsize=15)\n",
    "pyplot.xticks(fontsize=12)\n",
    "pyplot.yticks(fontsize=12)\n",
    "#Show legend\n",
    "pyplot.legend() # \n",
    "#plt.savefig(\"AUC_ROC.png\", dpi = 600)\n",
    "pyplot.show()"
   ]
  },
  {
   "cell_type": "code",
   "execution_count": 58,
   "id": "c6e9e4b5",
   "metadata": {},
   "outputs": [
    {
     "name": "stdout",
     "output_type": "stream",
     "text": [
      "accuracy 0.9520958083832335\n"
     ]
    }
   ],
   "source": [
    "from sklearn.ensemble import RandomForestClassifier\n",
    "# define the model\n",
    "RF = RandomForestClassifier()\n",
    "RF.fit(X_train, Y_train)\n",
    "prediction = RF.predict(X_test)\n",
    "Accuracy = accuracy_score(Y_test,prediction)\n",
    "print('accuracy',Accuracy)"
   ]
  },
  {
   "cell_type": "code",
   "execution_count": 59,
   "id": "51e80270",
   "metadata": {},
   "outputs": [
    {
     "name": "stdout",
     "output_type": "stream",
     "text": [
      "0.9536423841059603\n",
      "0.993103448275862\n",
      "0.972972972972973\n"
     ]
    }
   ],
   "source": [
    "print(precision_score(Y_test,prediction))\n",
    "print(recall_score(Y_test,prediction))\n",
    "print(f1_score(Y_test,prediction))"
   ]
  },
  {
   "cell_type": "code",
   "execution_count": 60,
   "id": "db5b24ea",
   "metadata": {},
   "outputs": [
    {
     "data": {
      "image/png": "[encoded data removed]",
      "text/plain": [
       "<Figure size 720x432 with 2 Axes>"
      ]
     },
     "metadata": {
      "needs_background": "light"
     },
     "output_type": "display_data"
    }
   ],
   "source": [
    "plot_confusion_matrix(RF,X_test,Y_test,cmap=plt.cm.Greens)\n",
    "plt.xlabel('predicted label',color='black')\n",
    "plt.ylabel('true label',color='black')\n",
    "plt.gcf().axes[0].tick_params(color='white')\n",
    "plt.gcf().axes[1].tick_params(color='white')\n",
    "plt.gcf().set_size_inches(10,6)\n",
    "plt.savefig(\"RF.png\", dpi = 600)\n",
    "plt.show()"
   ]
  },
  {
   "cell_type": "code",
   "execution_count": 81,
   "id": "df7c3a6b",
   "metadata": {},
   "outputs": [],
   "source": [
    "RF_probs = RF.predict_proba(X_test)\n",
    "RF_probs = RF_probs[:,1]\n",
    "RF_auc = roc_auc_score(Y_test, RF_probs)\n",
    "RF_fpr, RF_tpr, _ = roc_curve(Y_test, RF_probs)"
   ]
  },
  {
   "cell_type": "code",
   "execution_count": 82,
   "id": "bf14012c",
   "metadata": {},
   "outputs": [
    {
     "data": {
      "image/png": "[encoded data removed]",
      "text/plain": [
       "<Figure size 504x360 with 1 Axes>"
      ]
     },
     "metadata": {
      "needs_background": "light"
     },
     "output_type": "display_data"
    }
   ],
   "source": [
    "# plot the roc curve for the model\n",
    "fig = pyplot.figure(figsize=(7, 5))\n",
    "pyplot.plot(RF_fpr, RF_tpr ,label='RF =%.3f' % (RF_auc))\n",
    "params = {'legend.fontsize': 10,\n",
    "          'legend.handlelength': 2}\n",
    "pyplot.rcParams.update(params)\n",
    "pyplot.legend()\n",
    "pyplot.ylabel('True Positive Rate', fontsize=15)\n",
    "pyplot.xlabel('False Positive Rate', fontsize=15)\n",
    "pyplot.xticks(fontsize=12)\n",
    "pyplot.yticks(fontsize=12)\n",
    "#Show legend\n",
    "pyplot.legend() # \n",
    "#plt.savefig(\"AUC_ROC.png\", dpi = 600)\n",
    "pyplot.show()"
   ]
  },
  {
   "cell_type": "code",
   "execution_count": null,
   "id": "d45617aa",
   "metadata": {},
   "outputs": [],
   "source": [
    "#####Combined AUROC and PR Curves"
   ]
  },
  {
   "cell_type": "code",
   "execution_count": 63,
   "id": "cabfaff1",
   "metadata": {},
   "outputs": [],
   "source": [
    "KNN_probs = KNN.predict_proba(X_test)\n",
    "AB_probs = AB.predict_proba(X_test)\n",
    "DT_probs = DT.predict_proba(X_test)\n",
    "LR_probs = LR.predict_proba(X_test)\n",
    "RF_probs = RF.predict_proba(X_test)\n",
    "NB_probs = NB.predict_proba(X_test)\n",
    "MLP_probs = MLP.predict_proba(X_test)\n",
    "svm_linear_probs =svm_linear.predict_proba(X_test)\n",
    "svm_rbf_probs = svm_rbf.predict_proba(X_test)\n",
    "svm_poly_probs = svm_poly.predict_proba(X_test)"
   ]
  },
  {
   "cell_type": "code",
   "execution_count": 64,
   "id": "c29047f7",
   "metadata": {},
   "outputs": [],
   "source": [
    "# keep probabilities for the positive outcome only\n",
    "KNN_probs = KNN_probs[:, 1]\n",
    "AB_probs = AB_probs[:, 1]\n",
    "DT_probs = DT_probs[:, 1]\n",
    "LR_probs = LR_probs[:, 1]\n",
    "RF_probs = RF_probs[:, 1]\n",
    "NB_probs = NB_probs[:, 1]\n",
    "MLP_probs = MLP_probs[:,1]\n",
    "svm_linear_probs = svm_linear_probs[:, 1]\n",
    "svm_poly_probs = svm_poly_probs[:, 1]\n",
    "svm_rbf_probs = svm_rbf_probs[:, 1]"
   ]
  },
  {
   "cell_type": "code",
   "execution_count": 65,
   "id": "5e04fd64",
   "metadata": {},
   "outputs": [],
   "source": [
    "# calculate scores\n",
    "KNN_auc = roc_auc_score(Y_test, KNN_probs)\n",
    "AB_auc = roc_auc_score(Y_test, AB_probs)\n",
    "DT_auc = roc_auc_score(Y_test, DT_probs)\n",
    "LR_auc = roc_auc_score(Y_test, LR_probs)\n",
    "NB_auc = roc_auc_score(Y_test, NB_probs)\n",
    "RF_auc = roc_auc_score(Y_test, RF_probs)\n",
    "MLP_auc = roc_auc_score(Y_test, MLP_probs)\n",
    "svm_poly_auc = roc_auc_score(Y_test, svm_poly_probs)\n",
    "svm_linear_auc = roc_auc_score(Y_test, svm_linear_probs)\n",
    "svm_rbf_auc = roc_auc_score(Y_test, svm_rbf_probs)"
   ]
  },
  {
   "cell_type": "code",
   "execution_count": 66,
   "id": "4b931b72",
   "metadata": {},
   "outputs": [],
   "source": [
    "# calculate roc curves\n",
    "KNN_fpr, KNN_tpr, _ = roc_curve(Y_test, KNN_probs)\n",
    "AB_fpr, AB_tpr, _ = roc_curve(Y_test, AB_probs)\n",
    "DT_fpr, DT_tpr, _ = roc_curve(Y_test, DT_probs)\n",
    "NB_fpr, NB_tpr, _ = roc_curve(Y_test, NB_probs)\n",
    "LR_fpr, LR_tpr, _ = roc_curve(Y_test, LR_probs)\n",
    "RF_fpr, RF_tpr, _ = roc_curve(Y_test, RF_probs)\n",
    "MLP_fpr, MLP_tpr, _ = roc_curve(Y_test, MLP_probs)\n",
    "svm_linear_fpr, svm_linear_tpr, _ = roc_curve(Y_test, svm_linear_probs)\n",
    "svm_poly_fpr, svm_poly_tpr, _ = roc_curve(Y_test, svm_poly_probs)\n",
    "svm_rbf_fpr, svm_rbf_tpr, _ = roc_curve(Y_test, svm_rbf_probs)"
   ]
  },
  {
   "cell_type": "code",
   "execution_count": 67,
   "id": "ce17b0ae",
   "metadata": {},
   "outputs": [
    {
     "data": {
      "image/png": "[encoded data removed]",
      "text/plain": [
       "<Figure size 504x360 with 1 Axes>"
      ]
     },
     "metadata": {
      "needs_background": "light"
     },
     "output_type": "display_data"
    }
   ],
   "source": [
    "# plot the roc curve for the model\n",
    "fig = pyplot.figure(figsize=(7, 5))\n",
    "pyplot.plot(KNN_fpr, KNN_tpr ,label='KNN =%.3f' % (KNN_auc))\n",
    "pyplot.plot(AB_fpr, AB_tpr ,label='AB =%.3f' % (AB_auc))\n",
    "pyplot.plot(NB_fpr, NB_tpr ,label='NB =%.3f' % (NB_auc))\n",
    "pyplot.plot(DT_fpr, DT_tpr ,label='DT =%.3f' % (DT_auc))\n",
    "pyplot.plot(LR_fpr, LR_tpr ,label='LR =%.3f' % (LR_auc))\n",
    "pyplot.plot(RF_fpr, RF_tpr ,label='RF =%.3f' % (RF_auc))\n",
    "pyplot.plot(MLP_fpr, MLP_tpr ,label='MLP =%.3f' % (MLP_auc))\n",
    "pyplot.plot(svm_linear_fpr, svm_linear_tpr ,label='SVM_Linear =%.3f' % (svm_linear_auc))\n",
    "pyplot.plot(svm_poly_fpr, svm_poly_tpr ,label='SVM_Poly =%.3f' % (svm_poly_auc))\n",
    "pyplot.plot(svm_rbf_fpr, svm_rbf_tpr ,label='SVM_RBF =%.3f' % (svm_rbf_auc))\n",
    "params = {'legend.fontsize': 10,\n",
    "          'legend.handlelength': 2}\n",
    "pyplot.rcParams.update(params)\n",
    "pyplot.legend()\n",
    "pyplot.ylabel('True Positive Rate', fontsize=15)\n",
    "pyplot.xlabel('False Positive Rate', fontsize=15)\n",
    "pyplot.xticks(fontsize=12)\n",
    "pyplot.yticks(fontsize=12)\n",
    "#Show legend\n",
    "pyplot.legend() # \n",
    "plt.savefig(\"AUC_ROC.png\", dpi = 600)\n",
    "pyplot.show()"
   ]
  },
  {
   "cell_type": "code",
   "execution_count": 68,
   "id": "14ab8cc1",
   "metadata": {},
   "outputs": [],
   "source": [
    "from sklearn.metrics import precision_score\n",
    "from sklearn.metrics import recall_score\n",
    "from sklearn.metrics import precision_recall_curve"
   ]
  },
  {
   "cell_type": "code",
   "execution_count": 69,
   "id": "d220dcfe",
   "metadata": {},
   "outputs": [],
   "source": [
    "KNN_precision, KNN_recall, _ = precision_recall_curve(Y_test, KNN_probs)\n",
    "AB_precision, AB_recall, _ = precision_recall_curve(Y_test, AB_probs)\n",
    "DT_precision, DT_recall, _ = precision_recall_curve(Y_test, DT_probs)\n",
    "LR_precision, LR_recall, _ = precision_recall_curve(Y_test, LR_probs)\n",
    "NB_precision, NB_recall, _ = precision_recall_curve(Y_test, NB_probs)\n",
    "RF_precision, RF_recall, _ = precision_recall_curve(Y_test, RF_probs)\n",
    "MLP_precision, MLP_recall, _ = precision_recall_curve(Y_test, MLP_probs)\n",
    "svm_linear_precision, svm_linear_recall, _ = precision_recall_curve(Y_test, svm_linear_probs)\n",
    "svm_poly_precision, svm_poly_recall, _ = precision_recall_curve(Y_test, svm_poly_probs)\n",
    "svm_rbf_precision, svm_rbf_recall, _ = precision_recall_curve(Y_test, svm_rbf_probs)"
   ]
  },
  {
   "cell_type": "code",
   "execution_count": 70,
   "id": "d462881d",
   "metadata": {},
   "outputs": [],
   "source": [
    "from sklearn.metrics import auc\n",
    "# calculate the precision-recall auc\n",
    "KNN_auc = auc(KNN_recall, KNN_precision)\n",
    "AB_auc = auc(AB_recall, AB_precision)\n",
    "DT_auc = auc(DT_recall, DT_precision)\n",
    "NB_auc = auc(NB_recall, NB_precision)\n",
    "LR_auc = auc(LR_recall, LR_precision)\n",
    "RF_auc = auc(RF_recall, RF_precision)\n",
    "MLP_auc = auc(MLP_recall, MLP_precision)\n",
    "svm_linear_auc = auc(svm_linear_recall, svm_linear_precision)\n",
    "svm_poly_auc = auc(svm_poly_recall, svm_poly_precision)\n",
    "svm_rbf_auc = auc(svm_rbf_recall, svm_rbf_precision)"
   ]
  },
  {
   "cell_type": "code",
   "execution_count": 71,
   "id": "4182df28",
   "metadata": {},
   "outputs": [
    {
     "data": {
      "image/png": "[encoded data removed]",
      "text/plain": [
       "<Figure size 504x360 with 1 Axes>"
      ]
     },
     "metadata": {
      "needs_background": "light"
     },
     "output_type": "display_data"
    }
   ],
   "source": [
    "# plot the roc curve for the model\n",
    "fig = pyplot.figure(figsize=(7, 5))\n",
    "pyplot.plot(KNN_precision, KNN_recall ,label='KNN =%.3f' % (KNN_auc))\n",
    "pyplot.plot(AB_precision, AB_recall ,label='AB =%.3f' % (AB_auc))\n",
    "pyplot.plot(NB_precision, NB_recall ,label='NB =%.3f' % (NB_auc))\n",
    "pyplot.plot(DT_precision, DT_recall ,label='DT =%.3f' % (DT_auc))\n",
    "pyplot.plot(LR_precision, LR_recall ,label='LR =%.3f' % (LR_auc))\n",
    "pyplot.plot(RF_precision, RF_recall ,label='RF =%.3f' % (RF_auc))\n",
    "pyplot.plot(MLP_precision, MLP_recall ,label='MLP =%.3f' % (MLP_auc))\n",
    "pyplot.plot(svm_linear_precision, svm_linear_recall ,label='SVM_Linear =%.3f' % (svm_linear_auc))\n",
    "pyplot.plot(svm_poly_precision, svm_poly_recall ,label='SVM_Poly =%.3f' % (svm_poly_auc))\n",
    "pyplot.plot(svm_rbf_precision, svm_rbf_recall ,label='SVM_RBF =%.3f' % (svm_rbf_auc))\n",
    "params = {'legend.fontsize': 10,\n",
    "          'legend.handlelength': 2}\n",
    "pyplot.rcParams.update(params)\n",
    "pyplot.legend()\n",
    "pyplot.ylabel('Precision', fontsize=15)\n",
    "pyplot.xlabel('Recall', fontsize=15)\n",
    "pyplot.xticks(fontsize=12)\n",
    "pyplot.yticks(fontsize=12)\n",
    "#Show legend\n",
    "pyplot.legend() # \n",
    "plt.savefig(\"PR_curve.png\", dpi = 600)\n",
    "pyplot.show()"
   ]
  }
 ],
 "metadata": {
  "kernelspec": {
   "display_name": "Python 3",
   "language": "python",
   "name": "python3"
  },
  "language_info": {
   "codemirror_mode": {
    "name": "ipython",
    "version": 3
   },
   "file_extension": ".py",
   "mimetype": "text/x-python",
   "name": "python",
   "nbconvert_exporter": "python",
   "pygments_lexer": "ipython3",
   "version": "3.8.8"
  }
 },
 "nbformat": 4,
 "nbformat_minor": 5
}
